{
 "cells": [
  {
   "cell_type": "code",
   "execution_count": 0,
   "metadata": {
    "application/vnd.databricks.v1+cell": {
     "cellMetadata": {
      "byteLimit": 2048000,
      "rowLimit": 10000
     },
     "inputWidgets": {},
     "nuid": "391afb6e-7d24-4fc1-8b19-80f2e0313dde",
     "showTitle": false,
     "tableResultSettingsMap": {},
     "title": ""
    }
   },
   "outputs": [],
   "source": [
    "# ⭐ Silver → Gold – NYC Yellow Taxi (Analytics-Ready)\n",
    "\n",
    "This notebook:\n",
    "- Reads **Silver** Delta\n",
    "- Applies **data quality checks**, **standardizes types & names**\n",
    "- Creates derived features for BI (e.g., `trip_duration_minutes`, `tip_percentage`)\n",
    "- Builds a **star schema** with **dimensions** and a **fact** table\n",
    "- Saves & registers all as **Delta tables** in `gold` schema"
   ]
  },
  {
   "cell_type": "markdown",
   "metadata": {
    "application/vnd.databricks.v1+cell": {
     "cellMetadata": {},
     "inputWidgets": {},
     "nuid": "071bc6e4-3411-42dd-bb31-19782c37e2ba",
     "showTitle": false,
     "tableResultSettingsMap": {},
     "title": ""
    }
   },
   "source": [
    "## Import Libraries"
   ]
  },
  {
   "cell_type": "code",
   "execution_count": 0,
   "metadata": {
    "application/vnd.databricks.v1+cell": {
     "cellMetadata": {
      "byteLimit": 2048000,
      "rowLimit": 10000
     },
     "inputWidgets": {},
     "nuid": "07f80cd7-d454-40a5-9d93-34094bdb43af",
     "showTitle": false,
     "tableResultSettingsMap": {},
     "title": ""
    }
   },
   "outputs": [],
   "source": [
    "from pyspark.sql import SparkSession\n",
    "from pyspark.sql.functions import col\n",
    "from pyspark.sql.functions import to_timestamp\n",
    "from pyspark.sql.functions import datediff, expr, to_date, hour, when, round\n",
    "from pyspark.sql.functions import lit, trim, lower, initcap, when, monotonically_increasing_id\n",
    "from pyspark.sql import Window\n",
    "from pyspark.sql.functions import dense_rank\n",
    "import logging"
   ]
  },
  {
   "cell_type": "markdown",
   "metadata": {
    "application/vnd.databricks.v1+cell": {
     "cellMetadata": {},
     "inputWidgets": {},
     "nuid": "c3f0b2be-b3c3-41b5-a660-b27f67543074",
     "showTitle": false,
     "tableResultSettingsMap": {},
     "title": ""
    }
   },
   "source": [
    "## Configurations"
   ]
  },
  {
   "cell_type": "markdown",
   "metadata": {
    "application/vnd.databricks.v1+cell": {
     "cellMetadata": {},
     "inputWidgets": {},
     "nuid": "0be9c50a-e347-442f-b95e-539b5a769b05",
     "showTitle": false,
     "tableResultSettingsMap": {},
     "title": ""
    }
   },
   "source": [
    "#### Logger"
   ]
  },
  {
   "cell_type": "code",
   "execution_count": 0,
   "metadata": {
    "application/vnd.databricks.v1+cell": {
     "cellMetadata": {
      "byteLimit": 2048000,
      "rowLimit": 10000
     },
     "inputWidgets": {},
     "nuid": "22299a11-8182-43ce-8002-400e089e4922",
     "showTitle": false,
     "tableResultSettingsMap": {},
     "title": ""
    }
   },
   "outputs": [],
   "source": [
    "import logging\n",
    "logger = logging.getLogger(\"SilverToGold-Analytics\")\n",
    "if not logger.hasHandlers():\n",
    "    logging.basicConfig(level=logging.INFO, format=\"%(asctime)s - %(levelname)s - %(message)s\")\n",
    "logger.info(\"Logger initialized.\")"
   ]
  },
  {
   "cell_type": "markdown",
   "metadata": {
    "application/vnd.databricks.v1+cell": {
     "cellMetadata": {},
     "inputWidgets": {},
     "nuid": "0b923a81-ab4c-4d7d-9a6c-a6c682cc627d",
     "showTitle": false,
     "tableResultSettingsMap": {},
     "title": ""
    }
   },
   "source": [
    "## Constants and Parameters"
   ]
  },
  {
   "cell_type": "code",
   "execution_count": 0,
   "metadata": {
    "application/vnd.databricks.v1+cell": {
     "cellMetadata": {
      "byteLimit": 2048000,
      "rowLimit": 10000
     },
     "inputWidgets": {},
     "nuid": "b11cf6b8-9760-4ffb-8e80-12dae4b10347",
     "showTitle": false,
     "tableResultSettingsMap": {},
     "title": ""
    }
   },
   "outputs": [],
   "source": [
    "# I/O paths (ADLS Gen2 via abfss)\n",
    "silver_path = \"abfss://silver@assportfolio.dfs.core.windows.net/nyc/taxi/yellow/\"\n",
    "gold_base   = \"abfss://gold@assportfolio.dfs.core.windows.net/nyc/taxi/yellow/\"\n",
    "\n",
    "# Gold table locations\n",
    "gold_dim_vendor_path       = f\"{gold_base}dim_vendor/\"\n",
    "gold_dim_payment_type_path = f\"{gold_base}dim_payment_type/\"\n",
    "gold_dim_rate_code_path    = f\"{gold_base}dim_rate_code/\"\n",
    "gold_fact_trips_path       = f\"{gold_base}fact_yellow_trips/\"\n",
    "\n",
    "# Metastore tables\n",
    "gold_schema = \"gold\"\n",
    "tbl_dim_vendor       = f\"{gold_schema}.dim_vendor\"\n",
    "tbl_dim_payment_type = f\"{gold_schema}.dim_payment_type\"\n",
    "tbl_dim_rate_code    = f\"{gold_schema}.dim_rate_code\"\n",
    "tbl_fact_trips       = f\"{gold_schema}.fact_yellow_trips\""
   ]
  },
  {
   "cell_type": "markdown",
   "metadata": {
    "application/vnd.databricks.v1+cell": {
     "cellMetadata": {},
     "inputWidgets": {},
     "nuid": "e4dffb02-94fb-4e30-b16c-ba8bcdc5abe3",
     "showTitle": false,
     "tableResultSettingsMap": {},
     "title": ""
    }
   },
   "source": [
    "## Main Process"
   ]
  },
  {
   "cell_type": "markdown",
   "metadata": {
    "application/vnd.databricks.v1+cell": {
     "cellMetadata": {},
     "inputWidgets": {},
     "nuid": "162092a2-827b-4837-887c-e132bd1e0cd7",
     "showTitle": false,
     "tableResultSettingsMap": {},
     "title": ""
    }
   },
   "source": [
    "#### Read Silver Data"
   ]
  },
  {
   "cell_type": "code",
   "execution_count": 0,
   "metadata": {
    "application/vnd.databricks.v1+cell": {
     "cellMetadata": {
      "byteLimit": 2048000,
      "rowLimit": 10000
     },
     "inputWidgets": {},
     "nuid": "c79a48ea-c8c0-45e5-84e6-bf45ca038fe2",
     "showTitle": false,
     "tableResultSettingsMap": {},
     "title": ""
    }
   },
   "outputs": [],
   "source": [
    "df_silver = spark.read.format(\"delta\").load(silver_path)\n",
    "logger.info(f\"Loaded Silver rows: {df_silver.count()}\")\n",
    "df_silver.printSchema()\n"
   ]
  },
  {
   "cell_type": "markdown",
   "metadata": {
    "application/vnd.databricks.v1+cell": {
     "cellMetadata": {},
     "inputWidgets": {},
     "nuid": "42854484-e099-44b6-9661-96dd857ebc30",
     "showTitle": false,
     "tableResultSettingsMap": {},
     "title": ""
    }
   },
   "source": [
    "#### Minor Transformations"
   ]
  },
  {
   "cell_type": "markdown",
   "metadata": {
    "application/vnd.databricks.v1+cell": {
     "cellMetadata": {},
     "inputWidgets": {},
     "nuid": "0dbf05e0-b1a2-4eb2-a814-6b54013abd1f",
     "showTitle": false,
     "tableResultSettingsMap": {},
     "title": ""
    }
   },
   "source": [
    "##### Data Quality Gates (lightweight)"
   ]
  },
  {
   "cell_type": "code",
   "execution_count": 0,
   "metadata": {
    "application/vnd.databricks.v1+cell": {
     "cellMetadata": {},
     "inputWidgets": {},
     "nuid": "91fc07b1-ae9e-4b87-a290-492131f7647b",
     "showTitle": false,
     "tableResultSettingsMap": {},
     "title": ""
    }
   },
   "outputs": [],
   "source": [
    "# Required columns expected from Silver step\n",
    "required_cols = [\n",
    "    \"vendor_id\",\"pickup_datetime\",\"dropoff_datetime\",\"passenger_count\",\n",
    "    \"trip_distance\",\"ratecodeid\",\"store_and_fwd_flag\",\"payment_type\",\n",
    "    \"fare_amount\",\"extra\",\"mta_tax\",\"tip_amount\",\"tolls_amount\",\n",
    "    \"improvement_surcharge\",\"total_amount\",\"congestion_surcharge\"\n",
    "]\n",
    "\n",
    "missing = [c for c in required_cols if c not in df_silver.columns]\n",
    "if missing:\n",
    "    raise ValueError(f\"Missing required columns in Silver: {missing}\")\n",
    "\n",
    "# Basic sanity filters (e.g., non-negative fares/distance, valid times)\n",
    "df_sq = (\n",
    "    df_silver\n",
    "    .where(col(\"pickup_datetime\").isNotNull() & col(\"dropoff_datetime\").isNotNull())\n",
    "    .where(col(\"trip_distance\").cast(\"double\") >= 0.0)\n",
    "    .where(col(\"total_amount\").cast(\"double\").isNotNull())\n",
    ")\n",
    "logger.info(f\"Rows after sanity filters: {df_sq.count()}\")\n"
   ]
  },
  {
   "cell_type": "markdown",
   "metadata": {
    "application/vnd.databricks.v1+cell": {
     "cellMetadata": {},
     "inputWidgets": {},
     "nuid": "3824bb41-40c4-472c-aa92-d2d64a56d4c1",
     "showTitle": false,
     "tableResultSettingsMap": {},
     "title": ""
    }
   },
   "source": [
    "##### Standardize Schema & Types"
   ]
  },
  {
   "cell_type": "code",
   "execution_count": 0,
   "metadata": {
    "application/vnd.databricks.v1+cell": {
     "cellMetadata": {},
     "inputWidgets": {},
     "nuid": "68629f4c-3dc9-477d-8a8e-fb7099429e38",
     "showTitle": false,
     "tableResultSettingsMap": {},
     "title": ""
    }
   },
   "outputs": [],
   "source": [
    "df_std = (\n",
    "    df_sq\n",
    "    # timestamps\n",
    "    .withColumn(\"pickup_datetime\",  to_timestamp(col(\"pickup_datetime\")))\n",
    "    .withColumn(\"dropoff_datetime\", to_timestamp(col(\"dropoff_datetime\")))\n",
    "    # numerics\n",
    "    .withColumn(\"passenger_count\",       col(\"passenger_count\").cast(\"int\"))\n",
    "    .withColumn(\"trip_distance\",         col(\"trip_distance\").cast(\"double\"))\n",
    "    .withColumn(\"ratecodeid\",            col(\"ratecodeid\").cast(\"int\"))\n",
    "    .withColumn(\"payment_type\",          col(\"payment_type\").cast(\"int\"))\n",
    "    .withColumn(\"fare_amount\",           col(\"fare_amount\").cast(\"double\"))\n",
    "    .withColumn(\"extra\",                 col(\"extra\").cast(\"double\"))\n",
    "    .withColumn(\"mta_tax\",               col(\"mta_tax\").cast(\"double\"))\n",
    "    .withColumn(\"tip_amount\",            col(\"tip_amount\").cast(\"double\"))\n",
    "    .withColumn(\"tolls_amount\",          col(\"tolls_amount\").cast(\"double\"))\n",
    "    .withColumn(\"improvement_surcharge\", col(\"improvement_surcharge\").cast(\"double\"))\n",
    "    .withColumn(\"total_amount\",          col(\"total_amount\").cast(\"double\"))\n",
    "    .withColumn(\"congestion_surcharge\",  col(\"congestion_surcharge\").cast(\"double\"))\n",
    ")\n",
    "logger.info(\"Schema standardized.\")"
   ]
  },
  {
   "cell_type": "markdown",
   "metadata": {
    "application/vnd.databricks.v1+cell": {
     "cellMetadata": {},
     "inputWidgets": {},
     "nuid": "0f8ebb8c-9a8b-4d2b-9a95-a24292ec6ffa",
     "showTitle": false,
     "tableResultSettingsMap": {},
     "title": ""
    }
   },
   "source": [
    "##### Derive Analytics Features"
   ]
  },
  {
   "cell_type": "code",
   "execution_count": 0,
   "metadata": {
    "application/vnd.databricks.v1+cell": {
     "cellMetadata": {
      "byteLimit": 2048000,
      "rowLimit": 10000
     },
     "inputWidgets": {},
     "nuid": "1ab0a756-2a0f-4387-bde5-ddf1cc1ccaf0",
     "showTitle": false,
     "tableResultSettingsMap": {},
     "title": ""
    }
   },
   "outputs": [],
   "source": [
    "df_feat = (\n",
    "    df_std\n",
    "    .withColumn(\"trip_duration_minutes\", (expr(\"unix_timestamp(dropoff_datetime) - unix_timestamp(pickup_datetime)\"))/60.0)\n",
    "    .withColumn(\"trip_date\", to_date(col(\"pickup_datetime\")))\n",
    "    .withColumn(\"pickup_hour\", hour(col(\"pickup_datetime\")))\n",
    "    .withColumn(\"tip_percentage\",\n",
    "        when(col(\"fare_amount\") > 0, (col(\"tip_amount\")/col(\"fare_amount\"))*100.0).otherwise(None)\n",
    "    )\n",
    "    .withColumn(\"had_congestion_surcharge\", (col(\"congestion_surcharge\") > 0).cast(\"boolean\"))\n",
    "    .withColumn(\"store_and_fwd_flag\", when(col(\"store_and_fwd_flag\")==\"Y\", \"Y\").otherwise(\"N\"))\n",
    ")\n",
    "\n",
    "# Optional: cap absurd durations/distances for clean analytics\n",
    "df_feat = df_feat.where((col(\"trip_duration_minutes\") >= 0) & (col(\"trip_duration_minutes\") <= 720))  # <=12h\n",
    "df_feat = df_feat.where(col(\"trip_distance\") <= 200)  # cap 200 miles\n",
    "\n",
    "logger.info(f\"Rows after feature derivation/filters: {df_feat.count()}\")"
   ]
  },
  {
   "cell_type": "markdown",
   "metadata": {
    "application/vnd.databricks.v1+cell": {
     "cellMetadata": {},
     "inputWidgets": {},
     "nuid": "d5a46b2b-33ef-4fa1-aa63-fb0793acecb2",
     "showTitle": false,
     "tableResultSettingsMap": {},
     "title": ""
    }
   },
   "source": [
    "##### Build Dimensions (conformed, small, slow-changing)"
   ]
  },
  {
   "cell_type": "code",
   "execution_count": 0,
   "metadata": {
    "application/vnd.databricks.v1+cell": {
     "cellMetadata": {},
     "inputWidgets": {},
     "nuid": "d2fea7c2-32df-45a7-a17a-28254a4668ed",
     "showTitle": false,
     "tableResultSettingsMap": {},
     "title": ""
    }
   },
   "outputs": [],
   "source": [
    "# Dim: Vendor\n",
    "dim_vendor_src = (\n",
    "    df_feat.select(\"vendor_id\")\n",
    "    .where(col(\"vendor_id\").isNotNull())\n",
    "    .dropDuplicates()\n",
    ")\n",
    "dim_vendor = dim_vendor_src.withColumn(\"vendor_key\", dense_rank().over(Window.orderBy(col(\"vendor_id\"))))\n",
    "dim_vendor = dim_vendor.select(\"vendor_key\",\"vendor_id\")\n",
    "\n",
    "# Dim: Payment Type (map to friendly names when possible)\n",
    "payment_name = when(col(\"payment_type\")==1,\"Credit Card\") \\\n",
    "    .when(col(\"payment_type\")==2,\"Cash\") \\\n",
    "    .when(col(\"payment_type\")==3,\"No Charge\") \\\n",
    "    .when(col(\"payment_type\")==4,\"Dispute\") \\\n",
    "    .when(col(\"payment_type\")==5,\"Unknown\") \\\n",
    "    .when(col(\"payment_type\")==6,\"Voided Trip\") \\\n",
    "    .otherwise(\"Other\")\n",
    "\n",
    "dim_payment_type_src = (\n",
    "    df_feat.select(\"payment_type\")\n",
    "    .where(col(\"payment_type\").isNotNull())\n",
    "    .dropDuplicates()\n",
    ")\n",
    "dim_payment_type = dim_payment_type_src.withColumn(\"payment_type_key\", dense_rank().over(Window.orderBy(col(\"payment_type\")))) \\\n",
    "                                       .withColumn(\"payment_type_name\", payment_name) \\\n",
    "                                       .select(\"payment_type_key\",\"payment_type\",\"payment_type_name\")\n",
    "\n",
    "# Dim: Rate Code (friendly names)\n",
    "rate_name = when(col(\"ratecodeid\")==1,\"Standard rate\") \\\n",
    "    .when(col(\"ratecodeid\")==2,\"JFK\") \\\n",
    "    .when(col(\"ratecodeid\")==3,\"Newark\") \\\n",
    "    .when(col(\"ratecodeid\")==4,\"Nassau/Westchester\") \\\n",
    "    .when(col(\"ratecodeid\")==5,\"Negotiated fare\") \\\n",
    "    .when(col(\"ratecodeid\")==6,\"Group ride\") \\\n",
    "    .otherwise(\"Other\")\n",
    "\n",
    "dim_rate_code_src = (\n",
    "    df_feat.select(\"ratecodeid\")\n",
    "    .where(col(\"ratecodeid\").isNotNull())\n",
    "    .dropDuplicates()\n",
    ")\n",
    "dim_rate_code = dim_rate_code_src.withColumn(\"rate_code_key\", dense_rank().over(Window.orderBy(col(\"ratecodeid\")))) \\\n",
    "                                 .withColumn(\"rate_code_name\", rate_name) \\\n",
    "                                 .select(\"rate_code_key\",\"ratecodeid\",\"rate_code_name\")\n",
    "\n",
    "logger.info(\"Dimensions built (vendor, payment_type, rate_code).\")"
   ]
  },
  {
   "cell_type": "markdown",
   "metadata": {
    "application/vnd.databricks.v1+cell": {
     "cellMetadata": {},
     "inputWidgets": {},
     "nuid": "b744cdf3-2e8f-4a46-94af-d8d5148822d5",
     "showTitle": false,
     "tableResultSettingsMap": {},
     "title": ""
    }
   },
   "source": [
    "##### Build Fact Table"
   ]
  },
  {
   "cell_type": "code",
   "execution_count": 0,
   "metadata": {
    "application/vnd.databricks.v1+cell": {
     "cellMetadata": {},
     "inputWidgets": {},
     "nuid": "e4a135a4-26c4-4f12-a558-2468cdc415a6",
     "showTitle": false,
     "tableResultSettingsMap": {},
     "title": ""
    }
   },
   "outputs": [],
   "source": [
    "# Join dims to create surrogate keys\n",
    "fact = (\n",
    "    df_feat\n",
    "    .join(dim_vendor,       on=\"vendor_id\",   how=\"left\")\n",
    "    .join(dim_payment_type, on=\"payment_type\",how=\"left\")\n",
    "    .join(dim_rate_code,    on=\"ratecodeid\",  how=\"left\")\n",
    ")\n",
    "\n",
    "# Select curated fact columns (narrow, analytics-friendly)\n",
    "fact_trips = fact.select(\n",
    "    # surrogate keys\n",
    "    \"vendor_key\",\"payment_type_key\",\"rate_code_key\",\n",
    "    # degenerate/natural keys (none specific here; include if available)\n",
    "    # time grain\n",
    "    \"trip_date\",\"pickup_datetime\",\"dropoff_datetime\",\"pickup_hour\",\n",
    "    # measures\n",
    "    \"passenger_count\",\"trip_distance\",\"fare_amount\",\"extra\",\"mta_tax\",\"tip_amount\",\n",
    "    \"tolls_amount\",\"improvement_surcharge\",\"congestion_surcharge\",\"total_amount\",\n",
    "    \"trip_duration_minutes\",\"tip_percentage\",\"had_congestion_surcharge\",\n",
    "    # flags\n",
    "    \"store_and_fwd_flag\"\n",
    ")\n",
    "\n",
    "logger.info(f\"Fact row count: {fact_trips.count()}\")"
   ]
  },
  {
   "cell_type": "markdown",
   "metadata": {
    "application/vnd.databricks.v1+cell": {
     "cellMetadata": {},
     "inputWidgets": {},
     "nuid": "6ca649c6-7a84-4bb3-afce-2a86dfcdb4aa",
     "showTitle": false,
     "tableResultSettingsMap": {},
     "title": ""
    }
   },
   "source": [
    "#### Write Dimensions & Fact as Delta (Partition fact by trip_date)"
   ]
  },
  {
   "cell_type": "code",
   "execution_count": 0,
   "metadata": {
    "application/vnd.databricks.v1+cell": {
     "cellMetadata": {
      "byteLimit": 2048000,
      "rowLimit": 10000
     },
     "inputWidgets": {},
     "nuid": "40fa6184-2d30-4837-936a-78a5ba45ea59",
     "showTitle": false,
     "tableResultSettingsMap": {},
     "title": ""
    }
   },
   "outputs": [],
   "source": [
    "# Write dims (overwrite for demo; switch to merge/upsert for incremental)\n",
    "(dim_vendor\n",
    " .write.format(\"delta\").mode(\"overwrite\").option(\"overwriteSchema\",\"true\").save(gold_dim_vendor_path))\n",
    "\n",
    "(dim_payment_type\n",
    " .write.format(\"delta\").mode(\"overwrite\").option(\"overwriteSchema\",\"true\").save(gold_dim_payment_type_path))\n",
    "\n",
    "(dim_rate_code\n",
    " .write.format(\"delta\").mode(\"overwrite\").option(\"overwriteSchema\",\"true\").save(gold_dim_rate_code_path))\n",
    "\n",
    "# Fact (partitioned by date for analytics performance)\n",
    "(fact_trips\n",
    " .write.format(\"delta\").mode(\"overwrite\").option(\"overwriteSchema\",\"true\")\n",
    " .partitionBy(\"trip_date\")\n",
    " .save(gold_fact_trips_path))\n",
    "\n",
    "logger.info(\"Delta written to Gold storage locations.\")"
   ]
  },
  {
   "cell_type": "markdown",
   "metadata": {
    "application/vnd.databricks.v1+cell": {
     "cellMetadata": {},
     "inputWidgets": {},
     "nuid": "bac0ec65-3bf2-4079-9d12-8bd8e6c16876",
     "showTitle": false,
     "tableResultSettingsMap": {},
     "title": ""
    }
   },
   "source": [
    "#### Register Delta Table in Metastore"
   ]
  },
  {
   "cell_type": "code",
   "execution_count": 0,
   "metadata": {
    "application/vnd.databricks.v1+cell": {
     "cellMetadata": {
      "byteLimit": 2048000,
      "rowLimit": 10000
     },
     "inputWidgets": {},
     "nuid": "ae472281-eefa-4695-8103-c67df0972915",
     "showTitle": false,
     "tableResultSettingsMap": {},
     "title": ""
    }
   },
   "outputs": [],
   "source": [
    "spark.sql(\"CREATE SCHEMA IF NOT EXISTS gold\")\n",
    "logger.info(\"Schema `gold` created or already exists.\")\n",
    "\n",
    "spark.sql(f\"CREATE TABLE IF NOT EXISTS {tbl_dim_vendor}       USING DELTA LOCATION '{gold_dim_vendor_path}'\")\n",
    "spark.sql(f\"CREATE TABLE IF NOT EXISTS {tbl_dim_payment_type} USING DELTA LOCATION '{gold_dim_payment_type_path}'\")\n",
    "spark.sql(f\"CREATE TABLE IF NOT EXISTS {tbl_dim_rate_code}    USING DELTA LOCATION '{gold_dim_rate_code_path}'\")\n",
    "spark.sql(f\"CREATE TABLE IF NOT EXISTS {tbl_fact_trips}       USING DELTA LOCATION '{gold_fact_trips_path}'\")\n",
    "\n",
    "logger.info(f\"Registered: {tbl_dim_vendor}, {tbl_dim_payment_type}, {tbl_dim_rate_code}, {tbl_fact_trips}\")"
   ]
  },
  {
   "cell_type": "code",
   "execution_count": 0,
   "metadata": {
    "application/vnd.databricks.v1+cell": {
     "cellMetadata": {},
     "inputWidgets": {},
     "nuid": "4cbb33a8-b928-448b-be77-60833ff1ddf6",
     "showTitle": false,
     "tableResultSettingsMap": {},
     "title": ""
    }
   },
   "outputs": [],
   "source": []
  }
 ],
 "metadata": {
  "application/vnd.databricks.v1+notebook": {
   "computePreferences": null,
   "dashboards": [],
   "environmentMetadata": {
    "base_environment": "",
    "environment_version": "3"
   },
   "inputWidgetPreferences": null,
   "language": "python",
   "notebookMetadata": {
    "pythonIndentUnit": 4
   },
   "notebookName": "yellow_silver_to_gold",
   "widgets": {}
  },
  "language_info": {
   "name": "python"
  }
 },
 "nbformat": 4,
 "nbformat_minor": 0
}
